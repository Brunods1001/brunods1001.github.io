{
 "cells": [
  {
   "cell_type": "markdown",
   "id": "461c83c8-cf62-4ffe-bee3-4c34fd63afae",
   "metadata": {
    "tags": []
   },
   "source": [
    "# Day 2: Dive!\n",
    "\n",
    "Now, you need to figure out how to pilot this thing.\n",
    "\n",
    "It seems like the submarine can take a series of commands like forward 1, down 2, or up 3:\n",
    "\n",
    "forward X increases the horizontal position by X units.\n",
    "down X increases the depth by X units.\n",
    "up X decreases the depth by X units.\n",
    "Note that since you're on a submarine, down and up affect your depth, and so they have the opposite result of what you might expect.\n",
    "\n",
    "The submarine seems to already have a planned course (your puzzle input). You should probably figure out where it's going. For example:\n",
    "\n",
    "```\n",
    "forward 5\n",
    "down 5\n",
    "forward 8\n",
    "up 3\n",
    "down 8\n",
    "forward 2\n",
    "```\n",
    "Your horizontal position and depth both start at 0. The steps above would then modify them as follows:\n",
    "\n",
    "- forward 5 adds 5 to your horizontal position, a total of 5.\n",
    "- down 5 adds 5 to your depth, resulting in a value of 5.\n",
    "- forward 8 adds 8 to your horizontal position, a total of 13.\n",
    "- up 3 decreases your depth by 3, resulting in a value of 2.\n",
    "- down 8 adds 8 to your depth, resulting in a value of 10.\n",
    "- forward 2 adds 2 to your horizontal position, a total of 15.\n",
    "After following these instructions, you would have a horizontal position of 15 and a depth of 10. (Multiplying these together produces 150.)\n",
    "\n",
    "Calculate the horizontal position and depth you would have after following the planned course. What do you get if you multiply your final horizontal position by your final depth?\n",
    "\n",
    "\n"
   ]
  },
  {
   "cell_type": "code",
   "execution_count": 5,
   "id": "bc104940-bda5-4b80-b797-90854ed59fad",
   "metadata": {},
   "outputs": [],
   "source": [
    "DATA1 = \"\"\"\n",
    "forward 5\n",
    "down 5\n",
    "forward 8\n",
    "up 3\n",
    "down 8\n",
    "forward 2\n",
    "\"\"\""
   ]
  },
  {
   "cell_type": "markdown",
   "id": "ea405b07-f70b-435f-809e-fb8f6dd138d6",
   "metadata": {},
   "source": [
    "This problem keeps track of two states: the position and depth. One way to solve it is to create a dictionary to represent the state, then loop over each line of the data and update the state. After all the data is looped, multiply the state position by depth to get the right answer."
   ]
  },
  {
   "cell_type": "code",
   "execution_count": 10,
   "id": "ab342e17-dac7-4d9c-8b5d-e5677308ade2",
   "metadata": {},
   "outputs": [],
   "source": [
    "def solve_part_1(data: str) -> int:\n",
    "    return 0"
   ]
  },
  {
   "cell_type": "code",
   "execution_count": 11,
   "id": "a247fa50-824c-487a-98c0-ab96edc6f3dd",
   "metadata": {},
   "outputs": [
    {
     "ename": "AssertionError",
     "evalue": "",
     "output_type": "error",
     "traceback": [
      "\u001b[0;31m---------------------------------------------------------------------------\u001b[0m",
      "\u001b[0;31mAssertionError\u001b[0m                            Traceback (most recent call last)",
      "\u001b[0;32m/var/folders/z9/kpxvtj2j6f7476j_syx__q440000gn/T/ipykernel_8790/2355970489.py\u001b[0m in \u001b[0;36m<module>\u001b[0;34m\u001b[0m\n\u001b[0;32m----> 1\u001b[0;31m \u001b[0;32massert\u001b[0m \u001b[0msolve_part_1\u001b[0m\u001b[0;34m(\u001b[0m\u001b[0mDATA1\u001b[0m\u001b[0;34m)\u001b[0m \u001b[0;34m==\u001b[0m \u001b[0;36m150\u001b[0m\u001b[0;34m\u001b[0m\u001b[0;34m\u001b[0m\u001b[0m\n\u001b[0m",
      "\u001b[0;31mAssertionError\u001b[0m: "
     ]
    }
   ],
   "source": [
    "assert solve_part_1(DATA1) == 150"
   ]
  },
  {
   "cell_type": "markdown",
   "id": "2f9b28fa-4785-450d-a766-2947dacbdec9",
   "metadata": {},
   "source": [
    "The function must process the data"
   ]
  },
  {
   "cell_type": "code",
   "execution_count": null,
   "id": "5ae2cbb1-c440-414d-9c60-ff374c322e7c",
   "metadata": {},
   "outputs": [],
   "source": [
    "def solve_part_1(data: str) -> int:\n",
    "    data_clean = process_data(data)\n",
    "    "
   ]
  },
  {
   "cell_type": "markdown",
   "id": "469c6309-1301-459e-8336-f8eec36d56f9",
   "metadata": {},
   "source": [
    "# Part Two\n",
    "\n",
    "Based on your calculations, the planned course doesn't seem to make any sense. You find the submarine manual and discover that the process is actually slightly more complicated.\n",
    "\n",
    "In addition to horizontal position and depth, you'll also need to track a third value, aim, which also starts at 0. The commands also mean something entirely different than you first thought:\n",
    "\n",
    "down X increases your aim by X units.\n",
    "up X decreases your aim by X units.\n",
    "forward X does two things:\n",
    "It increases your horizontal position by X units.\n",
    "It increases your depth by your aim multiplied by X.\n",
    "Again note that since you're on a submarine, down and up do the opposite of what you might expect: \"down\" means aiming in the positive direction.\n",
    "\n",
    "Now, the above example does something different:\n",
    "\n",
    "forward 5 adds 5 to your horizontal position, a total of 5. Because your aim is 0, your depth does not change.\n",
    "down 5 adds 5 to your aim, resulting in a value of 5.\n",
    "forward 8 adds 8 to your horizontal position, a total of 13. Because your aim is 5, your depth increases by 8*5=40.\n",
    "up 3 decreases your aim by 3, resulting in a value of 2.\n",
    "down 8 adds 8 to your aim, resulting in a value of 10.\n",
    "forward 2 adds 2 to your horizontal position, a total of 15. Because your aim is 10, your depth increases by 2*10=20 to a total of 60.\n",
    "After following these new instructions, you would have a horizontal position of 15 and a depth of 60. (Multiplying these produces 900.)\n",
    "\n",
    "Using this new interpretation of the commands, calculate the horizontal position and depth you would have after following the planned course. What do you get if you multiply your final horizontal position by your final depth?"
   ]
  },
  {
   "cell_type": "code",
   "execution_count": null,
   "id": "85adaaad-f3ce-4036-b28c-4c4b5a7846a3",
   "metadata": {},
   "outputs": [],
   "source": []
  }
 ],
 "metadata": {
  "kernelspec": {
   "display_name": "Python 3 (ipykernel)",
   "language": "python",
   "name": "python3"
  },
  "language_info": {
   "codemirror_mode": {
    "name": "ipython",
    "version": 3
   },
   "file_extension": ".py",
   "mimetype": "text/x-python",
   "name": "python",
   "nbconvert_exporter": "python",
   "pygments_lexer": "ipython3",
   "version": "3.9.7"
  }
 },
 "nbformat": 4,
 "nbformat_minor": 5
}
