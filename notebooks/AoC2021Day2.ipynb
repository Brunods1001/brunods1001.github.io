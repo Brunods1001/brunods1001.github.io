{
 "cells": [
  {
   "cell_type": "markdown",
   "id": "461c83c8-cf62-4ffe-bee3-4c34fd63afae",
   "metadata": {
    "tags": []
   },
   "source": [
    "# Day 2: Dive!\n",
    "\n",
    "Now, you need to figure out how to pilot this thing.\n",
    "\n",
    "It seems like the submarine can take a series of commands like forward 1, down 2, or up 3:\n",
    "\n",
    "forward X increases the horizontal position by X units.\n",
    "down X increases the depth by X units.\n",
    "up X decreases the depth by X units.\n",
    "Note that since you're on a submarine, down and up affect your depth, and so they have the opposite result of what you might expect.\n",
    "\n",
    "The submarine seems to already have a planned course (your puzzle input). You should probably figure out where it's going. For example:\n",
    "\n",
    "```\n",
    "forward 5\n",
    "down 5\n",
    "forward 8\n",
    "up 3\n",
    "down 8\n",
    "forward 2\n",
    "```\n",
    "Your horizontal position and depth both start at 0. The steps above would then modify them as follows:\n",
    "\n",
    "- forward 5 adds 5 to your horizontal position, a total of 5.\n",
    "- down 5 adds 5 to your depth, resulting in a value of 5.\n",
    "- forward 8 adds 8 to your horizontal position, a total of 13.\n",
    "- up 3 decreases your depth by 3, resulting in a value of 2.\n",
    "- down 8 adds 8 to your depth, resulting in a value of 10.\n",
    "- forward 2 adds 2 to your horizontal position, a total of 15.\n",
    "After following these instructions, you would have a horizontal position of 15 and a depth of 10. (Multiplying these together produces 150.)\n",
    "\n",
    "Calculate the horizontal position and depth you would have after following the planned course. What do you get if you multiply your final horizontal position by your final depth?\n",
    "\n",
    "\n"
   ]
  },
  {
   "cell_type": "code",
   "execution_count": 1,
   "id": "bc104940-bda5-4b80-b797-90854ed59fad",
   "metadata": {},
   "outputs": [],
   "source": [
    "DATA = \"\"\"\n",
    "forward 5\n",
    "down 5\n",
    "forward 8\n",
    "up 3\n",
    "down 8\n",
    "forward 2\n",
    "\"\"\""
   ]
  },
  {
   "cell_type": "markdown",
   "id": "ea405b07-f70b-435f-809e-fb8f6dd138d6",
   "metadata": {},
   "source": [
    "This problem keeps track of two states: the position and depth. One way to solve it is to create a dictionary to represent the state, then loop over each line of the data and update the state. After all the data is looped, multiply the state position by depth to get the right answer.\n",
    "\n",
    "Another way to do it would be using a class to maintain state. I don't use classes too often so I am going to now just for fun. I actually like the way I'm building this class because the `solve` function can take in data multiple times and update the state."
   ]
  },
  {
   "cell_type": "code",
   "execution_count": 2,
   "id": "ab342e17-dac7-4d9c-8b5d-e5677308ade2",
   "metadata": {},
   "outputs": [],
   "source": [
    "class Part1:\n",
    "    def __init__(self):\n",
    "        self.position = 0\n",
    "        self.depth = 0\n",
    "\n",
    "    def solve(self, data: str) -> int:\n",
    "        lines = self.process_data(data)\n",
    "        self.update_states(lines)\n",
    "        return self.position * self.depth\n",
    "    \n",
    "    def process_data(self, data: str) -> list[str]:\n",
    "        return [line.split() for line in data.strip().split(\"\\n\")]\n",
    "        \n",
    "    def update_states(self, lines: str):\n",
    "        \"\"\"\n",
    "        Each line comes in as a str that can be split to get direction and\n",
    "        magnitude, where direction is a str and magnitude is an int.\n",
    "        \"\"\"        \n",
    "        for line in lines:\n",
    "            match line:\n",
    "                case [\"forward\", magnitude_str]:\n",
    "                    self.position += int(magnitude_str)\n",
    "                case [\"up\", magnitude_str]:\n",
    "                    self.depth -= int(magnitude_str)\n",
    "                case [\"down\", magnitude_str]:\n",
    "                    self.depth += int(magnitude_str)"
   ]
  },
  {
   "cell_type": "code",
   "execution_count": 3,
   "id": "5ec48706-0ad7-4f6d-a16f-5e20c030e6c3",
   "metadata": {},
   "outputs": [
    {
     "data": {
      "text/plain": [
       "150"
      ]
     },
     "execution_count": 3,
     "metadata": {},
     "output_type": "execute_result"
    }
   ],
   "source": [
    "Part1().solve(DATA)"
   ]
  },
  {
   "cell_type": "code",
   "execution_count": 4,
   "id": "2ca1eef7-9601-4bc8-8975-4ca5b5ea42f2",
   "metadata": {},
   "outputs": [
    {
     "name": "stdout",
     "output_type": "stream",
     "text": [
      "All tests pass! Solution is: 150\n"
     ]
    }
   ],
   "source": [
    "assert isinstance(Part1().solve(DATA), int)\n",
    "assert Part1().solve(DATA) == 150\n",
    "print(\"All tests pass!\", f\"Solution is: {Part1().solve(DATA)}\")"
   ]
  },
  {
   "cell_type": "markdown",
   "id": "469c6309-1301-459e-8336-f8eec36d56f9",
   "metadata": {},
   "source": [
    "# Part Two\n",
    "\n",
    "Based on your calculations, the planned course doesn't seem to make any sense. You find the submarine manual and discover that the process is actually slightly more complicated.\n",
    "\n",
    "In addition to horizontal position and depth, you'll also need to track a __third value, aim__, which also starts at 0. The commands also mean something entirely different than you first thought:\n",
    "\n",
    "down X increases your aim by X units.\n",
    "up X decreases your aim by X units.\n",
    "forward X does two things:\n",
    "It increases your horizontal position by X units.\n",
    "It increases your depth by your aim multiplied by X.\n",
    "Again note that since you're on a submarine, down and up do the opposite of what you might expect: \"down\" means aiming in the positive direction.\n",
    "\n",
    "Now, the above example does something different:\n",
    "\n",
    "forward 5 adds 5 to your horizontal position, a total of 5. Because your aim is 0, your depth does not change.\n",
    "down 5 adds 5 to your aim, resulting in a value of 5.\n",
    "forward 8 adds 8 to your horizontal position, a total of 13. Because your aim is 5, your depth increases by 8*5=40.\n",
    "up 3 decreases your aim by 3, resulting in a value of 2.\n",
    "down 8 adds 8 to your aim, resulting in a value of 10.\n",
    "forward 2 adds 2 to your horizontal position, a total of 15. Because your aim is 10, your depth increases by 2*10=20 to a total of 60.\n",
    "After following these new instructions, you would have a horizontal position of 15 and a depth of 60. (Multiplying these produces 900.)\n",
    "\n",
    "Using this new interpretation of the commands, calculate the horizontal position and depth you would have after following the planned course. What do you get if you multiply your final horizontal position by your final depth?"
   ]
  },
  {
   "cell_type": "code",
   "execution_count": 5,
   "id": "85adaaad-f3ce-4036-b28c-4c4b5a7846a3",
   "metadata": {},
   "outputs": [],
   "source": [
    "class Part2:\n",
    "    def __init__(self):\n",
    "        self.position = 0\n",
    "        self.depth = 0\n",
    "        self.aim = 0\n",
    "\n",
    "    def solve(self, data: str) -> int:\n",
    "        lines = self.process_data(data)\n",
    "        self.update_states(lines)\n",
    "        return self.position * self.depth\n",
    "    \n",
    "    def process_data(self, data: str) -> list[str]:\n",
    "        return [line.split() for line in data.strip().split(\"\\n\")]\n",
    "        \n",
    "    def update_states(self, lines: str):\n",
    "        \"\"\"\n",
    "        Each line comes in as a str that can be split to get direction and\n",
    "        magnitude, where direction is a str and magnitude is an int.\n",
    "        \"\"\"        \n",
    "        for line in lines:\n",
    "            match line:\n",
    "                case [\"forward\", magnitude_str]:\n",
    "                    mag = int(magnitude_str)\n",
    "                    self.position += mag\n",
    "                    self.depth += self.aim * mag\n",
    "                case [\"up\", magnitude_str]:\n",
    "                    self.aim -= int(magnitude_str)\n",
    "                case [\"down\", magnitude_str]:\n",
    "                    self.aim += int(magnitude_str)"
   ]
  },
  {
   "cell_type": "code",
   "execution_count": 6,
   "id": "8fb691f5-f80e-4ef0-9e05-340f686c40aa",
   "metadata": {},
   "outputs": [
    {
     "name": "stdout",
     "output_type": "stream",
     "text": [
      "All tests pass! Solution is: 900\n"
     ]
    }
   ],
   "source": [
    "assert isinstance(Part2().solve(DATA), int)\n",
    "assert Part2().solve(DATA) == 900\n",
    "print(\"All tests pass!\", f\"Solution is: {Part2().solve(DATA)}\")"
   ]
  }
 ],
 "metadata": {
  "kernelspec": {
   "display_name": "venv3.10",
   "language": "python",
   "name": "venv3.10"
  },
  "language_info": {
   "codemirror_mode": {
    "name": "ipython",
    "version": 3
   },
   "file_extension": ".py",
   "mimetype": "text/x-python",
   "name": "python",
   "nbconvert_exporter": "python",
   "pygments_lexer": "ipython3",
   "version": "3.10.0"
  }
 },
 "nbformat": 4,
 "nbformat_minor": 5
}
